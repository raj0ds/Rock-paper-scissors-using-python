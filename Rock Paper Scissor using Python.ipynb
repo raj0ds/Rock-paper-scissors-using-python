{
 "cells": [
  {
   "cell_type": "markdown",
   "id": "55909699",
   "metadata": {},
   "source": [
    "# Playing Rock, Paper, Scissors with Computer"
   ]
  },
  {
   "cell_type": "code",
   "execution_count": 1,
   "id": "89fca635",
   "metadata": {},
   "outputs": [],
   "source": [
    "# Import Random for computer to choose one of these randomly\n",
    "import random"
   ]
  },
  {
   "cell_type": "code",
   "execution_count": null,
   "id": "09050f68",
   "metadata": {},
   "outputs": [],
   "source": [
    "while True:                                                                   # It is placed so that we can play that more than once\n",
    "    players_choice = input(\"Enter a choice (rock, paper, scissors): \")        # space for player to input choice\n",
    "    possible_choices = [\"rock\", \"paper\", \"scissors\"]                          # provide a list of inputs for the program to identify\n",
    "    computer_choice = random.choice(possible_choices)                         # Using the list to make random choices\n",
    "    print(f\" you chose {players_choice}, computer chose {computer_choice}\")   # Printing the choices\n",
    "    \n",
    "    if players_choice == computer_choice:                                     # stating condition when computer and player choosed same \n",
    "        print(f\" You both Choose {computer_choice}, it's a tie.\")             # To print when both choosed same\n",
    "        \n",
    "    elif players_choice == \"rock\":                                            # Stating condition when player choosed rock\n",
    "        if computer_choice == \"scissors\":                                     # Nested if to state the condition when player choosed rock & computer choosed scissors\n",
    "            print(\"Rock smashes scissors! You win!\")                          # Print results when these particular choices are entered\n",
    "        else:                                                                 # Else for the other possibility of computer's choice\n",
    "            print(\"Paper covers rock! You lose.\")                             # Print results when these particular choices are entered\n",
    "    elif players_choice == \"paper\":                                           #Stating condition when player choosed paper\n",
    "        if computer_choice == \"rock\":                                         # Nested if to state the condition when player choosed paper & computer choosed rock\n",
    "            print(\"Paper covers rock! You win!\")                              # Print results when these particular choices are entered\n",
    "        else:                                                                 # Else for the other possibility of computer's choice\n",
    "            print(\"Scissors cuts paper! You lose.\")                           # Print results when these particular choices are entered\n",
    "    elif players_choice == \"scissors\":                                        # Stating condition when player choosed scissor\n",
    "        if computer_choice == \"paper\":                                        # Nested if to state the condition when player choosed scissors & computer choosed paper\n",
    "            print(\"Scissors cuts paper! You win!\")                            # Print results when these particular choices are entered\n",
    "        else:                                                                 # Else for the other possibility of computer's choice\n",
    "            print(\"Rock smashes scissors! You lose.\")                         # Print results when these particular choices are entered\n",
    "    \n",
    "    play_again = input(\"Play again? (y/n): \")                                 # Input for asking whether player wanted to continue playing or not\n",
    "    if play_again.lower() != \"y\":                                             # To decide whether to play or not\n",
    "        break                                                                 # To END the game"
   ]
  },
  {
   "cell_type": "code",
   "execution_count": null,
   "id": "6e43bc36",
   "metadata": {},
   "outputs": [],
   "source": []
  }
 ],
 "metadata": {
  "kernelspec": {
   "display_name": "Python 3 (ipykernel)",
   "language": "python",
   "name": "python3"
  },
  "language_info": {
   "codemirror_mode": {
    "name": "ipython",
    "version": 3
   },
   "file_extension": ".py",
   "mimetype": "text/x-python",
   "name": "python",
   "nbconvert_exporter": "python",
   "pygments_lexer": "ipython3",
   "version": "3.9.6"
  }
 },
 "nbformat": 4,
 "nbformat_minor": 5
}
